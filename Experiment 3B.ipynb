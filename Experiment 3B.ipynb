{
 "cells": [
  {
   "cell_type": "code",
   "execution_count": 4,
   "id": "7cda3e1a",
   "metadata": {},
   "outputs": [
    {
     "name": "stderr",
     "output_type": "stream",
     "text": [
      "Installing package into 'C:/Users/ATHARVA/AppData/Local/R/win-library/4.3'\n",
      "(as 'lib' is unspecified)\n",
      "\n",
      "also installing the dependencies 'listenv', 'parallelly', 'future', 'globals', 'shape', 'future.apply', 'numDeriv', 'progressr', 'SQUAREM', 'diagram', 'lava', 'prodlim', 'proxy', 'iterators', 'clock', 'gower', 'hardhat', 'ipred', 'timeDate', 'e1071', 'foreach', 'ModelMetrics', 'pROC', 'recipes', 'reshape2'\n",
      "\n",
      "\n"
     ]
    },
    {
     "name": "stdout",
     "output_type": "stream",
     "text": [
      "package 'listenv' successfully unpacked and MD5 sums checked\n",
      "package 'parallelly' successfully unpacked and MD5 sums checked\n",
      "package 'future' successfully unpacked and MD5 sums checked\n",
      "package 'globals' successfully unpacked and MD5 sums checked\n",
      "package 'shape' successfully unpacked and MD5 sums checked\n",
      "package 'future.apply' successfully unpacked and MD5 sums checked\n",
      "package 'numDeriv' successfully unpacked and MD5 sums checked\n",
      "package 'progressr' successfully unpacked and MD5 sums checked\n",
      "package 'SQUAREM' successfully unpacked and MD5 sums checked\n",
      "package 'diagram' successfully unpacked and MD5 sums checked\n",
      "package 'lava' successfully unpacked and MD5 sums checked\n",
      "package 'prodlim' successfully unpacked and MD5 sums checked\n",
      "package 'proxy' successfully unpacked and MD5 sums checked\n",
      "package 'iterators' successfully unpacked and MD5 sums checked\n",
      "package 'clock' successfully unpacked and MD5 sums checked\n",
      "package 'gower' successfully unpacked and MD5 sums checked\n",
      "package 'hardhat' successfully unpacked and MD5 sums checked\n",
      "package 'ipred' successfully unpacked and MD5 sums checked\n",
      "package 'timeDate' successfully unpacked and MD5 sums checked\n",
      "package 'e1071' successfully unpacked and MD5 sums checked\n",
      "package 'foreach' successfully unpacked and MD5 sums checked\n",
      "package 'ModelMetrics' successfully unpacked and MD5 sums checked\n",
      "package 'pROC' successfully unpacked and MD5 sums checked\n",
      "package 'recipes' successfully unpacked and MD5 sums checked\n",
      "package 'reshape2' successfully unpacked and MD5 sums checked\n",
      "package 'caret' successfully unpacked and MD5 sums checked\n",
      "\n",
      "The downloaded binary packages are in\n",
      "\tC:\\Users\\ATHARVA\\AppData\\Local\\Temp\\Rtmps7dYIj\\downloaded_packages\n"
     ]
    }
   ],
   "source": [
    "install.packages(\"caret\")\n"
   ]
  },
  {
   "cell_type": "code",
   "execution_count": 5,
   "id": "2c761d54",
   "metadata": {
    "scrolled": true
   },
   "outputs": [
    {
     "name": "stderr",
     "output_type": "stream",
     "text": [
      "Loading required package: lattice\n",
      "\n"
     ]
    }
   ],
   "source": [
    "# Load necessary libraries\n",
    "library(ggplot2)\n",
    "library(caret)"
   ]
  },
  {
   "cell_type": "code",
   "execution_count": 13,
   "id": "5c423972",
   "metadata": {},
   "outputs": [
    {
     "name": "stdout",
     "output_type": "stream",
     "text": [
      "'data.frame':\t205 obs. of  26 variables:\n",
      " $ car_ID          : int  1 2 3 4 5 6 7 8 9 10 ...\n",
      " $ symboling       : int  3 3 1 2 2 2 1 1 1 0 ...\n",
      " $ CarName         : chr  \"alfa-romero giulia\" \"alfa-romero stelvio\" \"alfa-romero Quadrifoglio\" \"audi 100 ls\" ...\n",
      " $ fueltype        : chr  \"gas\" \"gas\" \"gas\" \"gas\" ...\n",
      " $ aspiration      : chr  \"std\" \"std\" \"std\" \"std\" ...\n",
      " $ doornumber      : chr  \"two\" \"two\" \"two\" \"four\" ...\n",
      " $ carbody         : chr  \"convertible\" \"convertible\" \"hatchback\" \"sedan\" ...\n",
      " $ drivewheel      : chr  \"rwd\" \"rwd\" \"rwd\" \"fwd\" ...\n",
      " $ enginelocation  : chr  \"front\" \"front\" \"front\" \"front\" ...\n",
      " $ wheelbase       : num  88.6 88.6 94.5 99.8 99.4 ...\n",
      " $ carlength       : num  169 169 171 177 177 ...\n",
      " $ carwidth        : num  64.1 64.1 65.5 66.2 66.4 66.3 71.4 71.4 71.4 67.9 ...\n",
      " $ carheight       : num  48.8 48.8 52.4 54.3 54.3 53.1 55.7 55.7 55.9 52 ...\n",
      " $ curbweight      : int  2548 2548 2823 2337 2824 2507 2844 2954 3086 3053 ...\n",
      " $ enginetype      : chr  \"dohc\" \"dohc\" \"ohcv\" \"ohc\" ...\n",
      " $ cylindernumber  : chr  \"four\" \"four\" \"six\" \"four\" ...\n",
      " $ enginesize      : int  130 130 152 109 136 136 136 136 131 131 ...\n",
      " $ fuelsystem      : chr  \"mpfi\" \"mpfi\" \"mpfi\" \"mpfi\" ...\n",
      " $ boreratio       : num  3.47 3.47 2.68 3.19 3.19 3.19 3.19 3.19 3.13 3.13 ...\n",
      " $ stroke          : num  2.68 2.68 3.47 3.4 3.4 3.4 3.4 3.4 3.4 3.4 ...\n",
      " $ compressionratio: num  9 9 9 10 8 8.5 8.5 8.5 8.3 7 ...\n",
      " $ horsepower      : int  111 111 154 102 115 110 110 110 140 160 ...\n",
      " $ peakrpm         : int  5000 5000 5000 5500 5500 5500 5500 5500 5500 5500 ...\n",
      " $ citympg         : int  21 21 19 24 18 19 19 19 17 16 ...\n",
      " $ highwaympg      : int  27 27 26 30 22 25 25 25 20 22 ...\n",
      " $ price           : num  13495 16500 16500 13950 17450 ...\n"
     ]
    }
   ],
   "source": [
    "# Load the dataset\n",
    "car_data <- read.csv(\"Datasets/Car_prices.csv\")\n",
    "\n",
    "# Check the structure of the dataset\n",
    "str(car_data)"
   ]
  },
  {
   "cell_type": "code",
   "execution_count": 14,
   "id": "e4961703",
   "metadata": {},
   "outputs": [
    {
     "name": "stdout",
     "output_type": "stream",
     "text": [
      "'data.frame':\t205 obs. of  7 variables:\n",
      " $ carwidth      : num  64.1 64.1 65.5 66.2 66.4 66.3 71.4 71.4 71.4 67.9 ...\n",
      " $ cylindernumber: chr  \"four\" \"four\" \"six\" \"four\" ...\n",
      " $ enginesize    : int  130 130 152 109 136 136 136 136 131 131 ...\n",
      " $ boreratio     : num  3.47 3.47 2.68 3.19 3.19 3.19 3.19 3.19 3.13 3.13 ...\n",
      " $ horsepower    : int  111 111 154 102 115 110 110 110 140 160 ...\n",
      " $ highwaympg    : int  27 27 26 30 22 25 25 25 20 22 ...\n",
      " $ price         : num  13495 16500 16500 13950 17450 ...\n"
     ]
    }
   ],
   "source": [
    "# Keep only the required columns\n",
    "car_data <- car_data[, c(\"carwidth\", \"cylindernumber\", \"enginesize\", \"boreratio\", \"horsepower\", \"highwaympg\", \"price\")]\n",
    "\n",
    "# Check the structure of the modified dataset\n",
    "str(car_data)"
   ]
  },
  {
   "cell_type": "code",
   "execution_count": 15,
   "id": "556e6f49",
   "metadata": {},
   "outputs": [
    {
     "name": "stdout",
     "output_type": "stream",
     "text": [
      "[1] \"four\"   \"six\"    \"five\"   \"three\"  \"twelve\" \"two\"    \"eight\" \n"
     ]
    }
   ],
   "source": [
    "unique_values <- unique(car_data$cylindernumber)\n",
    "print(unique_values)"
   ]
  },
  {
   "cell_type": "code",
   "execution_count": 16,
   "id": "0e8efd03",
   "metadata": {},
   "outputs": [
    {
     "name": "stdout",
     "output_type": "stream",
     "text": [
      "'data.frame':\t205 obs. of  7 variables:\n",
      " $ carwidth      : num  64.1 64.1 65.5 66.2 66.4 66.3 71.4 71.4 71.4 67.9 ...\n",
      " $ cylindernumber: num  4 4 6 4 5 5 5 5 5 5 ...\n",
      " $ enginesize    : int  130 130 152 109 136 136 136 136 131 131 ...\n",
      " $ boreratio     : num  3.47 3.47 2.68 3.19 3.19 3.19 3.19 3.19 3.13 3.13 ...\n",
      " $ horsepower    : int  111 111 154 102 115 110 110 110 140 160 ...\n",
      " $ highwaympg    : int  27 27 26 30 22 25 25 25 20 22 ...\n",
      " $ price         : num  13495 16500 16500 13950 17450 ...\n"
     ]
    }
   ],
   "source": [
    "# Create a mapping for string values to numeric values\n",
    "mapping <- c(\"four\" = 4, \"six\" = 6, \"five\" = 5, \"three\" = 3, \"twelve\" = 12, \"two\" = 2, \"eight\" = 8)\n",
    "\n",
    "# Replace string values with numeric values\n",
    "car_data$cylindernumber <- mapping[as.character(car_data$cylindernumber)]\n",
    "\n",
    "str(car_data)"
   ]
  },
  {
   "cell_type": "code",
   "execution_count": 17,
   "id": "3a0a4df8",
   "metadata": {},
   "outputs": [
    {
     "data": {
      "text/plain": [
       "    carwidth     cylindernumber    enginesize      boreratio      horsepower   \n",
       " Min.   :60.30   Min.   : 2.00   Min.   : 61.0   Min.   :2.54   Min.   : 48.0  \n",
       " 1st Qu.:64.10   1st Qu.: 4.00   1st Qu.: 97.0   1st Qu.:3.15   1st Qu.: 70.0  \n",
       " Median :65.50   Median : 4.00   Median :120.0   Median :3.31   Median : 95.0  \n",
       " Mean   :65.91   Mean   : 4.38   Mean   :126.9   Mean   :3.33   Mean   :104.1  \n",
       " 3rd Qu.:66.90   3rd Qu.: 4.00   3rd Qu.:141.0   3rd Qu.:3.58   3rd Qu.:116.0  \n",
       " Max.   :72.30   Max.   :12.00   Max.   :326.0   Max.   :3.94   Max.   :288.0  \n",
       "   highwaympg        price      \n",
       " Min.   :16.00   Min.   : 5118  \n",
       " 1st Qu.:25.00   1st Qu.: 7788  \n",
       " Median :30.00   Median :10295  \n",
       " Mean   :30.75   Mean   :13277  \n",
       " 3rd Qu.:34.00   3rd Qu.:16503  \n",
       " Max.   :54.00   Max.   :45400  "
      ]
     },
     "metadata": {},
     "output_type": "display_data"
    }
   ],
   "source": [
    "# Summary statistics\n",
    "summary(car_data)"
   ]
  },
  {
   "cell_type": "code",
   "execution_count": 18,
   "id": "81a8106e",
   "metadata": {},
   "outputs": [],
   "source": [
    "# Split the data into training and testing sets (80% train, 20% test)\n",
    "set.seed(123)\n",
    "train_index <- createDataPartition(car_data$price, p = 0.8, list = FALSE)\n",
    "train_data <- car_data[train_index, ]\n",
    "test_data <- car_data[-train_index, ]"
   ]
  },
  {
   "cell_type": "code",
   "execution_count": 19,
   "id": "71ac646c",
   "metadata": {},
   "outputs": [
    {
     "data": {
      "text/plain": [
       "\n",
       "Call:\n",
       "lm(formula = price ~ ., data = train_data)\n",
       "\n",
       "Residuals:\n",
       "    Min      1Q  Median      3Q     Max \n",
       "-8278.2 -1989.5    15.9  1220.2 14756.6 \n",
       "\n",
       "Coefficients:\n",
       "                Estimate Std. Error t value Pr(>|t|)    \n",
       "(Intercept)    -52851.10   14464.91  -3.654 0.000351 ***\n",
       "carwidth          831.75     212.56   3.913 0.000135 ***\n",
       "cylindernumber    -97.89     594.84  -0.165 0.869500    \n",
       "enginesize        108.51      19.62   5.532 1.29e-07 ***\n",
       "boreratio       -1346.27    1603.88  -0.839 0.402521    \n",
       "horsepower         37.54      14.27   2.631 0.009365 ** \n",
       "highwaympg        -50.80      70.24  -0.723 0.470581    \n",
       "---\n",
       "Signif. codes:  0 '***' 0.001 '**' 0.01 '*' 0.05 '.' 0.1 ' ' 1\n",
       "\n",
       "Residual standard error: 3455 on 158 degrees of freedom\n",
       "Multiple R-squared:  0.8233,\tAdjusted R-squared:  0.8166 \n",
       "F-statistic: 122.7 on 6 and 158 DF,  p-value: < 2.2e-16\n"
      ]
     },
     "metadata": {},
     "output_type": "display_data"
    }
   ],
   "source": [
    "# Train the linear regression model\n",
    "lm_model <- lm(price ~ ., data = train_data)\n",
    "\n",
    "# Summarize the model\n",
    "summary(lm_model)"
   ]
  },
  {
   "cell_type": "code",
   "execution_count": 20,
   "id": "7082a4e4",
   "metadata": {},
   "outputs": [
    {
     "name": "stdout",
     "output_type": "stream",
     "text": [
      "[1] \"RMSE: 3574.35143673488\"\n"
     ]
    }
   ],
   "source": [
    "# Make predictions on the testing set\n",
    "predictions <- predict(lm_model, newdata = test_data)\n",
    "\n",
    "# Calculate the root mean squared error (RMSE)\n",
    "rmse <- sqrt(mean((test_data$price - predictions)^2))\n",
    "print(paste(\"RMSE:\", rmse))"
   ]
  },
  {
   "cell_type": "code",
   "execution_count": 21,
   "id": "57ca4a88",
   "metadata": {},
   "outputs": [
    {
     "data": {
      "image/png": "[encoded data removed]",
      "text/plain": [
       "plot without title"
      ]
     },
     "metadata": {
      "image/png": {
       "height": 420,
       "width": 420
      }
     },
     "output_type": "display_data"
    }
   ],
   "source": [
    "# Plotting actual vs. predicted values\n",
    "ggplot(test_data, aes(x = price, y = predictions)) +\n",
    "  geom_point() +\n",
    "  geom_abline(color = \"red\") +\n",
    "  labs(x = \"Actual Price\", y = \"Predicted Price\", title = \"Actual vs. Predicted Prices\")"
   ]
  }
 ],
 "metadata": {
  "kernelspec": {
   "display_name": "R",
   "language": "R",
   "name": "ir"
  },
  "language_info": {
   "codemirror_mode": "r",
   "file_extension": ".r",
   "mimetype": "text/x-r-source",
   "name": "R",
   "pygments_lexer": "r",
   "version": "4.3.2"
  }
 },
 "nbformat": 4,
 "nbformat_minor": 5
}
