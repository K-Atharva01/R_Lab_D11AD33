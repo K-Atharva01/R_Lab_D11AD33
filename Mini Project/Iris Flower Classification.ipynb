{
 "cells": [
  {
   "cell_type": "code",
   "execution_count": 1,
   "id": "034247ce",
   "metadata": {
    "scrolled": true
   },
   "outputs": [
    {
     "name": "stderr",
     "output_type": "stream",
     "text": [
      "Loading required package: lattice\n",
      "\n",
      "\n",
      "Attaching package: 'dplyr'\n",
      "\n",
      "\n",
      "The following objects are masked from 'package:stats':\n",
      "\n",
      "    filter, lag\n",
      "\n",
      "\n",
      "The following objects are masked from 'package:base':\n",
      "\n",
      "    intersect, setdiff, setequal, union\n",
      "\n",
      "\n"
     ]
    }
   ],
   "source": [
    "# Load required libraries\n",
    "library(shiny)\n",
    "library(ggplot2)\n",
    "library(caret)\n",
    "library(e1071)\n",
    "library(dplyr)\n",
    "\n",
    "# Check if kernlab is installed, if not install it\n",
    "if (!requireNamespace(\"kernlab\", quietly = TRUE)) {\n",
    "  install.packages(\"kernlab\")\n",
    "}\n",
    "\n",
    "# Load Iris dataset\n",
    "data(iris)"
   ]
  },
  {
   "cell_type": "code",
   "execution_count": null,
   "id": "9719ca4f",
   "metadata": {},
   "outputs": [
    {
     "name": "stderr",
     "output_type": "stream",
     "text": [
      "\n",
      "Listening on http://127.0.0.1:5893\n",
      "\n",
      "Warning message:\n",
      "\"Error in : variable 'Sepal.Length' was fitted with type \"numeric\" but type \"logical\" was supplied\"\n"
     ]
    }
   ],
   "source": [
    "# Define UI\n",
    "ui <- fluidPage(\n",
    "  titlePanel(\"Iris Flower Classification\"),\n",
    "  sidebarLayout(\n",
    "    sidebarPanel(\n",
    "      tags$h3(\"Input Features\"),\n",
    "      br(),\n",
    "      numericInput(\"input_sepal_length\", \"Sepal Length:\", value = 5.1, min = 0, max = 10, step = 0.1),\n",
    "      numericInput(\"input_sepal_width\", \"Sepal Width:\", value = 3.5, min = 0, max = 10, step = 0.1),\n",
    "      numericInput(\"input_petal_length\", \"Petal Length:\", value = 1.4, min = 0, max = 10, step = 0.1),\n",
    "      numericInput(\"input_petal_width\", \"Petal Width:\", value = 0.2, min = 0, max = 10, step = 0.1)\n",
    "    ),\n",
    "    mainPanel(\n",
    "      br(),\n",
    "      tags$h3(\"Prediction\"),\n",
    "      verbatimTextOutput(\"prediction\")\n",
    "    )\n",
    "  )\n",
    ")\n",
    "\n",
    "# Define server logic\n",
    "server <- function(input, output) {\n",
    "  \n",
    "  # Reactive expression for training model\n",
    "  trained_model <- reactive({\n",
    "    formula <- Species ~ .\n",
    "    model <- train(formula, data = iris, method = \"svmRadial\")\n",
    "    return(model)\n",
    "  })\n",
    "  \n",
    "  # Predict function\n",
    "  predict_iris <- function(model, new_data) {\n",
    "    predict(model, newdata = new_data)\n",
    "  }\n",
    "  \n",
    "  # Reactive expression for prediction\n",
    "  output$prediction <- renderPrint({\n",
    "    features <- data.frame(\n",
    "      Sepal.Length = input$input_sepal_length,\n",
    "      Sepal.Width = input$input_sepal_width,\n",
    "      Petal.Length = input$input_petal_length,\n",
    "      Petal.Width = input$input_petal_width\n",
    "    )\n",
    "    \n",
    "    model <- trained_model()\n",
    "    \n",
    "    if (!is.null(model)) {\n",
    "      prediction <- predict_iris(model, features)\n",
    "      return(paste(\"Predicted Species:\", prediction))\n",
    "    } else {\n",
    "      return(\"Model not trained yet.\")\n",
    "    }\n",
    "  })\n",
    "}\n",
    "\n",
    "# Run the application\n",
    "shinyApp(ui = ui, server = server)"
   ]
  },
  {
   "cell_type": "code",
   "execution_count": null,
   "id": "e12c52c0",
   "metadata": {},
   "outputs": [],
   "source": []
  }
 ],
 "metadata": {
  "kernelspec": {
   "display_name": "R",
   "language": "R",
   "name": "ir"
  },
  "language_info": {
   "codemirror_mode": "r",
   "file_extension": ".r",
   "mimetype": "text/x-r-source",
   "name": "R",
   "pygments_lexer": "r",
   "version": "4.3.2"
  }
 },
 "nbformat": 4,
 "nbformat_minor": 5
}
