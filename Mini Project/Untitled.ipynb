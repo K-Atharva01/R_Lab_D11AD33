{
 "cells": [
  {
   "cell_type": "code",
   "execution_count": null,
   "id": "034247ce",
   "metadata": {},
   "outputs": [],
   "source": [
    "# Load required libraries\n",
    "library(shiny)\n",
    "library(ggplot2)\n",
    "library(caret)\n",
    "library(e1071)\n",
    "library(dplyr)\n",
    "install.packages(\"kernlab\")\n",
    "\n",
    "\n",
    "# Load Iris dataset\n",
    "data(iris)"
   ]
  },
  {
   "cell_type": "code",
   "execution_count": null,
   "id": "9719ca4f",
   "metadata": {},
   "outputs": [],
   "source": [
    "\n",
    "\n",
    "# Define UI\n",
    "ui <- fluidPage(\n",
    "  titlePanel(\"Iris Flower Classification\"),\n",
    "  sidebarLayout(\n",
    "    sidebarPanel(\n",
    "      selectInput(\"feature1\", \"Select Feature 1:\", choices = colnames(iris)[1:4]),\n",
    "      selectInput(\"feature2\", \"Select Feature 2:\", choices = colnames(iris)[1:4]),\n",
    "      actionButton(\"train_btn\", \"Train Model\")\n",
    "    ),\n",
    "    mainPanel(\n",
    "      plotOutput(\"scatter_plot\"),\n",
    "      verbatimTextOutput(\"model_summary\")\n",
    "    )\n",
    "  )\n",
    ")\n",
    "\n",
    "# Define server logic\n",
    "server <- function(input, output) {\n",
    "  \n",
    "  # Reactive expression for training model\n",
    "  trained_model <- eventReactive(input$train_btn, {\n",
    "    features <- c(input$feature1, input$feature2)\n",
    "    formula <- as.formula(paste(\"Species ~\", paste(features, collapse = \"+\")))\n",
    "    model <- train(formula, data = iris, method = \"svmRadial\")\n",
    "    return(model)\n",
    "  })\n",
    "  \n",
    "  # Render scatter plot\n",
    "  output$scatter_plot <- renderPlot({\n",
    "    model <- trained_model()\n",
    "    features <- c(input$feature1, input$feature2)\n",
    "    ggplot(iris, aes_string(x = features[1], y = features[2], color = \"Species\")) +\n",
    "      geom_point() +\n",
    "      geom_point(data = model$finalModel$SV, color = \"black\", size = 3, shape = 1) +\n",
    "      theme_minimal() +\n",
    "      labs(title = \"Iris Flower Classification\")\n",
    "  })\n",
    "  \n",
    "  # Display model summary\n",
    "  output$model_summary <- renderPrint({\n",
    "    model <- trained_model()\n",
    "    summary(model)\n",
    "  })\n",
    "}\n",
    "\n",
    "# Run the application\n",
    "shinyApp(ui = ui, server = server)\n"
   ]
  },
  {
   "cell_type": "code",
   "execution_count": null,
   "id": "777d613d",
   "metadata": {},
   "outputs": [],
   "source": []
  }
 ],
 "metadata": {
  "kernelspec": {
   "display_name": "R",
   "language": "R",
   "name": "ir"
  },
  "language_info": {
   "codemirror_mode": "r",
   "file_extension": ".r",
   "mimetype": "text/x-r-source",
   "name": "R",
   "pygments_lexer": "r",
   "version": "4.3.2"
  }
 },
 "nbformat": 4,
 "nbformat_minor": 5
}
